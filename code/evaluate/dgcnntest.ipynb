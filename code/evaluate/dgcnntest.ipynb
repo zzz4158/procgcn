{
 "cells": [
  {
   "cell_type": "code",
   "execution_count": 6,
   "metadata": {},
   "outputs": [
    {
     "name": "stderr",
     "output_type": "stream",
     "text": [
      "2023-03-13 11:04:35.352198: I tensorflow/stream_executor/cuda/cuda_gpu_executor.cc:961] could not open file to read NUMA node: /sys/bus/pci/devices/0000:02:00.0/numa_node\n",
      "Your kernel may have been built without NUMA support.\n",
      "2023-03-13 11:04:35.427628: I tensorflow/stream_executor/cuda/cuda_gpu_executor.cc:961] could not open file to read NUMA node: /sys/bus/pci/devices/0000:02:00.0/numa_node\n",
      "Your kernel may have been built without NUMA support.\n",
      "2023-03-13 11:04:35.428072: I tensorflow/stream_executor/cuda/cuda_gpu_executor.cc:961] could not open file to read NUMA node: /sys/bus/pci/devices/0000:02:00.0/numa_node\n",
      "Your kernel may have been built without NUMA support.\n",
      "2023-03-13 11:04:35.431836: I tensorflow/core/platform/cpu_feature_guard.cc:193] This TensorFlow binary is optimized with oneAPI Deep Neural Network Library (oneDNN) to use the following CPU instructions in performance-critical operations:  AVX2 FMA\n",
      "To enable them in other operations, rebuild TensorFlow with the appropriate compiler flags.\n",
      "2023-03-13 11:04:35.435884: I tensorflow/stream_executor/cuda/cuda_gpu_executor.cc:961] could not open file to read NUMA node: /sys/bus/pci/devices/0000:02:00.0/numa_node\n",
      "Your kernel may have been built without NUMA support.\n",
      "2023-03-13 11:04:35.436324: I tensorflow/stream_executor/cuda/cuda_gpu_executor.cc:961] could not open file to read NUMA node: /sys/bus/pci/devices/0000:02:00.0/numa_node\n",
      "Your kernel may have been built without NUMA support.\n",
      "2023-03-13 11:04:35.436707: I tensorflow/stream_executor/cuda/cuda_gpu_executor.cc:961] could not open file to read NUMA node: /sys/bus/pci/devices/0000:02:00.0/numa_node\n",
      "Your kernel may have been built without NUMA support.\n",
      "2023-03-13 11:04:37.365789: I tensorflow/stream_executor/cuda/cuda_gpu_executor.cc:961] could not open file to read NUMA node: /sys/bus/pci/devices/0000:02:00.0/numa_node\n",
      "Your kernel may have been built without NUMA support.\n",
      "2023-03-13 11:04:37.366430: I tensorflow/stream_executor/cuda/cuda_gpu_executor.cc:961] could not open file to read NUMA node: /sys/bus/pci/devices/0000:02:00.0/numa_node\n",
      "Your kernel may have been built without NUMA support.\n",
      "2023-03-13 11:04:37.366474: I tensorflow/core/common_runtime/gpu/gpu_device.cc:1616] Could not identify NUMA node of platform GPU id 0, defaulting to 0.  Your kernel may not have been built with NUMA support.\n",
      "2023-03-13 11:04:37.367014: I tensorflow/stream_executor/cuda/cuda_gpu_executor.cc:961] could not open file to read NUMA node: /sys/bus/pci/devices/0000:02:00.0/numa_node\n",
      "Your kernel may have been built without NUMA support.\n",
      "2023-03-13 11:04:37.367124: I tensorflow/core/common_runtime/gpu/gpu_device.cc:1532] Created device /job:localhost/replica:0/task:0/device:GPU:0 with 9599 MB memory:  -> device: 0, name: NVIDIA GeForce GTX 1080 Ti, pci bus id: 0000:02:00.0, compute capability: 6.1\n"
     ]
    }
   ],
   "source": [
    "import pandas as pd\n",
    "import numpy as np\n",
    "import networkx as nx\n",
    "import stellargraph as sg\n",
    "from stellargraph.mapper import PaddedGraphGenerator\n",
    "from stellargraph.layer import DeepGraphCNN\n",
    "from stellargraph import StellarGraph\n",
    "from sklearn import model_selection\n",
    "\n",
    "from tensorflow.keras import Model\n",
    "from tensorflow.keras.optimizers import Adam\n",
    "from tensorflow.keras.layers import Dense, Conv1D, MaxPool1D, Dropout, Flatten\n",
    "from tensorflow.keras.losses import binary_crossentropy\n",
    "import tensorflow as tf\n"
   ]
  },
  {
   "cell_type": "code",
   "execution_count": 1,
   "metadata": {},
   "outputs": [
    {
     "name": "stderr",
     "output_type": "stream",
     "text": [
      "2023-02-27 10:09:09.522438: I tensorflow/core/platform/cpu_feature_guard.cc:193] This TensorFlow binary is optimized with oneAPI Deep Neural Network Library (oneDNN) to use the following CPU instructions in performance-critical operations:  AVX2 AVX512F FMA\n",
      "To enable them in other operations, rebuild TensorFlow with the appropriate compiler flags.\n",
      "2023-02-27 10:09:10.554461: W tensorflow/compiler/xla/stream_executor/platform/default/dso_loader.cc:64] Could not load dynamic library 'libnvinfer.so.7'; dlerror: libnvinfer.so.7: cannot open shared object file: No such file or directory; LD_LIBRARY_PATH: /usr/local/cuda-11.6/lib64:\n",
      "2023-02-27 10:09:10.554581: W tensorflow/compiler/xla/stream_executor/platform/default/dso_loader.cc:64] Could not load dynamic library 'libnvinfer_plugin.so.7'; dlerror: libnvinfer_plugin.so.7: cannot open shared object file: No such file or directory; LD_LIBRARY_PATH: /usr/local/cuda-11.6/lib64:\n",
      "2023-02-27 10:09:10.554591: W tensorflow/compiler/tf2tensorrt/utils/py_utils.cc:38] TF-TRT Warning: Cannot dlopen some TensorRT libraries. If you would like to use Nvidia GPU with TensorRT, please make sure the missing libraries mentioned above are installed properly.\n",
      "2023-02-27 10:09:11.573589: I tensorflow/compiler/xla/stream_executor/cuda/cuda_gpu_executor.cc:981] successful NUMA node read from SysFS had negative value (-1), but there must be at least one NUMA node, so returning NUMA node zero\n",
      "2023-02-27 10:09:11.619644: I tensorflow/compiler/xla/stream_executor/cuda/cuda_gpu_executor.cc:981] successful NUMA node read from SysFS had negative value (-1), but there must be at least one NUMA node, so returning NUMA node zero\n",
      "2023-02-27 10:09:11.621800: I tensorflow/compiler/xla/stream_executor/cuda/cuda_gpu_executor.cc:981] successful NUMA node read from SysFS had negative value (-1), but there must be at least one NUMA node, so returning NUMA node zero\n",
      "2023-02-27 10:09:11.624060: I tensorflow/core/platform/cpu_feature_guard.cc:193] This TensorFlow binary is optimized with oneAPI Deep Neural Network Library (oneDNN) to use the following CPU instructions in performance-critical operations:  AVX2 AVX512F FMA\n",
      "To enable them in other operations, rebuild TensorFlow with the appropriate compiler flags.\n",
      "2023-02-27 10:09:11.625156: I tensorflow/compiler/xla/stream_executor/cuda/cuda_gpu_executor.cc:981] successful NUMA node read from SysFS had negative value (-1), but there must be at least one NUMA node, so returning NUMA node zero\n",
      "2023-02-27 10:09:11.626978: I tensorflow/compiler/xla/stream_executor/cuda/cuda_gpu_executor.cc:981] successful NUMA node read from SysFS had negative value (-1), but there must be at least one NUMA node, so returning NUMA node zero\n",
      "2023-02-27 10:09:11.628714: I tensorflow/compiler/xla/stream_executor/cuda/cuda_gpu_executor.cc:981] successful NUMA node read from SysFS had negative value (-1), but there must be at least one NUMA node, so returning NUMA node zero\n",
      "2023-02-27 10:09:12.513770: I tensorflow/compiler/xla/stream_executor/cuda/cuda_gpu_executor.cc:981] successful NUMA node read from SysFS had negative value (-1), but there must be at least one NUMA node, so returning NUMA node zero\n",
      "2023-02-27 10:09:12.515839: I tensorflow/compiler/xla/stream_executor/cuda/cuda_gpu_executor.cc:981] successful NUMA node read from SysFS had negative value (-1), but there must be at least one NUMA node, so returning NUMA node zero\n",
      "2023-02-27 10:09:12.517549: I tensorflow/compiler/xla/stream_executor/cuda/cuda_gpu_executor.cc:981] successful NUMA node read from SysFS had negative value (-1), but there must be at least one NUMA node, so returning NUMA node zero\n",
      "2023-02-27 10:09:12.519131: I tensorflow/core/common_runtime/gpu/gpu_device.cc:1613] Created device /job:localhost/replica:0/task:0/device:GPU:0 with 13567 MB memory:  -> device: 0, name: Tesla T4, pci bus id: 0000:00:07.0, compute capability: 7.5\n"
     ]
    }
   ],
   "source": [
    "import pickle\n",
    "with open('../data/graph_label_list.pkl','rb') as f:\n",
    "  graph_label_list=pickle.load(f)\n",
    "with open('../data/graph_list.pkl','rb') as f:\n",
    "  graph_list=pickle.load(f)"
   ]
  },
  {
   "cell_type": "code",
   "execution_count": 4,
   "metadata": {},
   "outputs": [
    {
     "data": {
      "text/html": [
       "<div>\n",
       "<style scoped>\n",
       "    .dataframe tbody tr th:only-of-type {\n",
       "        vertical-align: middle;\n",
       "    }\n",
       "\n",
       "    .dataframe tbody tr th {\n",
       "        vertical-align: top;\n",
       "    }\n",
       "\n",
       "    .dataframe thead th {\n",
       "        text-align: right;\n",
       "    }\n",
       "</style>\n",
       "<table border=\"1\" class=\"dataframe\">\n",
       "  <thead>\n",
       "    <tr style=\"text-align: right;\">\n",
       "      <th></th>\n",
       "      <th>0</th>\n",
       "    </tr>\n",
       "    <tr>\n",
       "      <th>1</th>\n",
       "      <th></th>\n",
       "    </tr>\n",
       "  </thead>\n",
       "  <tbody>\n",
       "    <tr>\n",
       "      <th>0</th>\n",
       "      <td>896</td>\n",
       "    </tr>\n",
       "    <tr>\n",
       "      <th>1</th>\n",
       "      <td>896</td>\n",
       "    </tr>\n",
       "  </tbody>\n",
       "</table>\n",
       "</div>"
      ],
      "text/plain": [
       "     0\n",
       "1     \n",
       "0  896\n",
       "1  896"
      ]
     },
     "execution_count": 4,
     "metadata": {},
     "output_type": "execute_result"
    }
   ],
   "source": [
    "graph_label_list = pd.get_dummies(graph_label_list, drop_first=True)\n",
    "graph_label_list.value_counts().to_frame()"
   ]
  },
  {
   "cell_type": "code",
   "execution_count": 14,
   "metadata": {},
   "outputs": [
    {
     "data": {
      "text/plain": [
       "numpy.uint8"
      ]
     },
     "execution_count": 14,
     "metadata": {},
     "output_type": "execute_result"
    }
   ],
   "source": [
    "type(graph_label_list[1][1791])"
   ]
  },
  {
   "cell_type": "code",
   "execution_count": 30,
   "metadata": {},
   "outputs": [],
   "source": [
    "bennode=[]\n",
    "malnode=[]\n",
    "benedge=[]\n",
    "maledge=[]\n",
    "for i in range(len(graph_list)):\n",
    "  g=graph_list[i]\n",
    "  if graph_label_list[1][i]==0:\n",
    "    bennode.append(g.number_of_nodes())\n",
    "    benedge.append(g.number_of_edges())\n",
    "  else:\n",
    "    malnode.append(g.number_of_nodes())\n",
    "    maledge.append(g.number_of_edges())"
   ]
  },
  {
   "cell_type": "code",
   "execution_count": 55,
   "metadata": {},
   "outputs": [],
   "source": [
    "with open('total.csv','w') as f:\n",
    "  for i in bennode:\n",
    "    f.write(str(i)+',')\n",
    "  f.write('\\n')\n",
    "  for i in benedge:\n",
    "    f.write(str(i)+',')\n",
    "  f.write('\\n')\n",
    "  for i in malnode:\n",
    "    f.write(str(i)+',')\n",
    "  f.write('\\n')\n",
    "  for i in maledge:\n",
    "    f.write(str(i)+',')\n",
    "  f.write('\\n')"
   ]
  },
  {
   "cell_type": "code",
   "execution_count": 28,
   "metadata": {},
   "outputs": [],
   "source": [
    "import csv\n",
    "with open('total.csv','w') as f:\n",
    "  writer=csv.writer(f)\n",
    "  writer.writerows((k,benedge[k]) for k in benedge)"
   ]
  },
  {
   "cell_type": "code",
   "execution_count": 51,
   "metadata": {},
   "outputs": [],
   "source": [
    "pd_bennode=pd.cut(bennode,bins=[x*100 for x in range(11)])"
   ]
  },
  {
   "cell_type": "code",
   "execution_count": 53,
   "metadata": {},
   "outputs": [
    {
     "data": {
      "text/plain": [
       "(0, 100]       154\n",
       "(100, 200]     205\n",
       "(200, 300]     170\n",
       "(300, 400]     101\n",
       "(400, 500]      70\n",
       "(500, 600]      48\n",
       "(600, 700]      38\n",
       "(700, 800]      42\n",
       "(800, 900]      39\n",
       "(900, 1000]     29\n",
       "dtype: int64"
      ]
     },
     "execution_count": 53,
     "metadata": {},
     "output_type": "execute_result"
    }
   ],
   "source": [
    "pd_bennode.value_counts()"
   ]
  },
  {
   "cell_type": "code",
   "execution_count": 59,
   "metadata": {},
   "outputs": [
    {
     "name": "stderr",
     "output_type": "stream",
     "text": [
      "/root/.local/lib/python3.8/site-packages/IPython/core/pylabtools.py:152: UserWarning: Glyph 21306 (\\N{CJK UNIFIED IDEOGRAPH-533A}) missing from current font.\n",
      "  fig.canvas.print_figure(bytes_io, **kw)\n",
      "/root/.local/lib/python3.8/site-packages/IPython/core/pylabtools.py:152: UserWarning: Glyph 38388 (\\N{CJK UNIFIED IDEOGRAPH-95F4}) missing from current font.\n",
      "  fig.canvas.print_figure(bytes_io, **kw)\n",
      "/root/.local/lib/python3.8/site-packages/IPython/core/pylabtools.py:152: UserWarning: Glyph 39057 (\\N{CJK UNIFIED IDEOGRAPH-9891}) missing from current font.\n",
      "  fig.canvas.print_figure(bytes_io, **kw)\n",
      "/root/.local/lib/python3.8/site-packages/IPython/core/pylabtools.py:152: UserWarning: Glyph 25968 (\\N{CJK UNIFIED IDEOGRAPH-6570}) missing from current font.\n",
      "  fig.canvas.print_figure(bytes_io, **kw)\n"
     ]
    },
    {
     "data": {
      "image/png": "[encoded data removed]",
      "text/plain": [
       "<Figure size 640x480 with 1 Axes>"
      ]
     },
     "metadata": {},
     "output_type": "display_data"
    }
   ],
   "source": [
    "import matplotlib.pyplot as plt\n",
    "values = pd_bennode.value_counts().values\n",
    "labels = [x*100 for x in range(11)][-10:]\n",
    "df = pd.DataFrame(values, index=labels)\n",
    "df.plot(kind='bar', legend=False)\n",
    "plt.xticks(rotation=0)\n",
    "plt.ylabel('频数')\n",
    "plt.xlabel('区间')\n",
    "plt.show()\n",
    "\n"
   ]
  },
  {
   "cell_type": "code",
   "execution_count": null,
   "metadata": {},
   "outputs": [],
   "source": []
  },
  {
   "cell_type": "code",
   "execution_count": 79,
   "metadata": {},
   "outputs": [
    {
     "name": "stderr",
     "output_type": "stream",
     "text": [
      "/tmp/ipykernel_83935/1830100679.py:1: MatplotlibDeprecationWarning: The seaborn styles shipped by Matplotlib are deprecated since 3.6, as they no longer correspond to the styles shipped by seaborn. However, they will remain available as 'seaborn-v0_8-<style>'. Alternatively, directly use the seaborn API instead.\n",
      "  plt.style.use('seaborn-poster')\n"
     ]
    },
    {
     "data": {
      "image/png": "[encoded data removed]",
      "text/plain": [
       "<Figure size 1280x880 with 1 Axes>"
      ]
     },
     "metadata": {},
     "output_type": "display_data"
    }
   ],
   "source": [
    "plt.style.use('seaborn-poster')\n",
    "\n",
    "plt.hist([bennode,malnode],bins=10,label=['ben_node','mal_node'])\n",
    "plt.rcParams.update({'font.size':20})\n",
    "plt.legend()\n",
    "# plt.show()\n",
    "plt.savefig('./nodes')"
   ]
  },
  {
   "cell_type": "code",
   "execution_count": 80,
   "metadata": {},
   "outputs": [
    {
     "name": "stderr",
     "output_type": "stream",
     "text": [
      "/tmp/ipykernel_83935/4174848943.py:1: MatplotlibDeprecationWarning: The seaborn styles shipped by Matplotlib are deprecated since 3.6, as they no longer correspond to the styles shipped by seaborn. However, they will remain available as 'seaborn-v0_8-<style>'. Alternatively, directly use the seaborn API instead.\n",
      "  plt.style.use('seaborn-poster')\n"
     ]
    },
    {
     "data": {
      "image/png": "[encoded data removed]",
      "text/plain": [
       "<Figure size 1280x880 with 1 Axes>"
      ]
     },
     "metadata": {},
     "output_type": "display_data"
    }
   ],
   "source": [
    "plt.style.use('seaborn-poster')\n",
    "\n",
    "plt.hist([benedge,maledge],bins=10,label=['ben_edge','mal_edge'])\n",
    "plt.rcParams.update({'font.size':20})\n",
    "plt.legend()\n",
    "# plt.show()\n",
    "plt.savefig('./edges')"
   ]
  },
  {
   "cell_type": "code",
   "execution_count": 29,
   "metadata": {},
   "outputs": [
    {
     "ename": "TypeError",
     "evalue": "'RangeIndex' object is not callable",
     "output_type": "error",
     "traceback": [
      "\u001b[0;31m---------------------------------------------------------------------------\u001b[0m",
      "\u001b[0;31mTypeError\u001b[0m                                 Traceback (most recent call last)",
      "Cell \u001b[0;32mIn[29], line 2\u001b[0m\n\u001b[1;32m      1\u001b[0m summary \u001b[39m=\u001b[39m pd\u001b[39m.\u001b[39mDataFrame(\n\u001b[0;32m----> 2\u001b[0m     [(g\u001b[39m.\u001b[39mnumber_of_nodes(), g\u001b[39m.\u001b[39mnumber_of_edges(),graph_label_list\u001b[39m.\u001b[39mindex(g)) \u001b[39mfor\u001b[39;00m g \u001b[39min\u001b[39;00m graph_list],\n\u001b[1;32m      3\u001b[0m     columns\u001b[39m=\u001b[39m[\u001b[39m\"\u001b[39m\u001b[39mnodes\u001b[39m\u001b[39m\"\u001b[39m, \u001b[39m\"\u001b[39m\u001b[39medges\u001b[39m\u001b[39m\"\u001b[39m,\u001b[39m'\u001b[39m\u001b[39mlabel\u001b[39m\u001b[39m'\u001b[39m],\n\u001b[1;32m      4\u001b[0m )\n\u001b[1;32m      5\u001b[0m summary\u001b[39m.\u001b[39mdescribe()\u001b[39m.\u001b[39mround(\u001b[39m1\u001b[39m)\n",
      "Cell \u001b[0;32mIn[29], line 2\u001b[0m, in \u001b[0;36m<listcomp>\u001b[0;34m(.0)\u001b[0m\n\u001b[1;32m      1\u001b[0m summary \u001b[39m=\u001b[39m pd\u001b[39m.\u001b[39mDataFrame(\n\u001b[0;32m----> 2\u001b[0m     [(g\u001b[39m.\u001b[39mnumber_of_nodes(), g\u001b[39m.\u001b[39mnumber_of_edges(),graph_label_list\u001b[39m.\u001b[39;49mindex(g)) \u001b[39mfor\u001b[39;00m g \u001b[39min\u001b[39;00m graph_list],\n\u001b[1;32m      3\u001b[0m     columns\u001b[39m=\u001b[39m[\u001b[39m\"\u001b[39m\u001b[39mnodes\u001b[39m\u001b[39m\"\u001b[39m, \u001b[39m\"\u001b[39m\u001b[39medges\u001b[39m\u001b[39m\"\u001b[39m,\u001b[39m'\u001b[39m\u001b[39mlabel\u001b[39m\u001b[39m'\u001b[39m],\n\u001b[1;32m      4\u001b[0m )\n\u001b[1;32m      5\u001b[0m summary\u001b[39m.\u001b[39mdescribe()\u001b[39m.\u001b[39mround(\u001b[39m1\u001b[39m)\n",
      "\u001b[0;31mTypeError\u001b[0m: 'RangeIndex' object is not callable"
     ]
    }
   ],
   "source": [
    "summary = pd.DataFrame(\n",
    "    [(g.number_of_nodes(), g.number_of_edges(),graph_label_list.(g)) for g in graph_list],\n",
    "    columns=[\"nodes\", \"edges\",'label'],\n",
    ")\n",
    "summary.describe().round(1)"
   ]
  },
  {
   "cell_type": "code",
   "execution_count": 23,
   "metadata": {},
   "outputs": [
    {
     "data": {
      "text/html": [
       "<div>\n",
       "<style scoped>\n",
       "    .dataframe tbody tr th:only-of-type {\n",
       "        vertical-align: middle;\n",
       "    }\n",
       "\n",
       "    .dataframe tbody tr th {\n",
       "        vertical-align: top;\n",
       "    }\n",
       "\n",
       "    .dataframe thead th {\n",
       "        text-align: right;\n",
       "    }\n",
       "</style>\n",
       "<table border=\"1\" class=\"dataframe\">\n",
       "  <thead>\n",
       "    <tr style=\"text-align: right;\">\n",
       "      <th></th>\n",
       "      <th>nodes</th>\n",
       "      <th>edges</th>\n",
       "    </tr>\n",
       "  </thead>\n",
       "  <tbody>\n",
       "    <tr>\n",
       "      <th>0</th>\n",
       "      <td>596</td>\n",
       "      <td>1135976</td>\n",
       "    </tr>\n",
       "    <tr>\n",
       "      <th>1</th>\n",
       "      <td>238</td>\n",
       "      <td>154700</td>\n",
       "    </tr>\n",
       "    <tr>\n",
       "      <th>2</th>\n",
       "      <td>143</td>\n",
       "      <td>32747</td>\n",
       "    </tr>\n",
       "    <tr>\n",
       "      <th>3</th>\n",
       "      <td>156</td>\n",
       "      <td>42900</td>\n",
       "    </tr>\n",
       "    <tr>\n",
       "      <th>4</th>\n",
       "      <td>50</td>\n",
       "      <td>2300</td>\n",
       "    </tr>\n",
       "    <tr>\n",
       "      <th>...</th>\n",
       "      <td>...</td>\n",
       "      <td>...</td>\n",
       "    </tr>\n",
       "    <tr>\n",
       "      <th>1787</th>\n",
       "      <td>140</td>\n",
       "      <td>31640</td>\n",
       "    </tr>\n",
       "    <tr>\n",
       "      <th>1788</th>\n",
       "      <td>778</td>\n",
       "      <td>1672700</td>\n",
       "    </tr>\n",
       "    <tr>\n",
       "      <th>1789</th>\n",
       "      <td>205</td>\n",
       "      <td>30135</td>\n",
       "    </tr>\n",
       "    <tr>\n",
       "      <th>1790</th>\n",
       "      <td>710</td>\n",
       "      <td>1064290</td>\n",
       "    </tr>\n",
       "    <tr>\n",
       "      <th>1791</th>\n",
       "      <td>70</td>\n",
       "      <td>6790</td>\n",
       "    </tr>\n",
       "  </tbody>\n",
       "</table>\n",
       "<p>1792 rows × 2 columns</p>\n",
       "</div>"
      ],
      "text/plain": [
       "      nodes    edges\n",
       "0       596  1135976\n",
       "1       238   154700\n",
       "2       143    32747\n",
       "3       156    42900\n",
       "4        50     2300\n",
       "...     ...      ...\n",
       "1787    140    31640\n",
       "1788    778  1672700\n",
       "1789    205    30135\n",
       "1790    710  1064290\n",
       "1791     70     6790\n",
       "\n",
       "[1792 rows x 2 columns]"
      ]
     },
     "execution_count": 23,
     "metadata": {},
     "output_type": "execute_result"
    }
   ],
   "source": [
    "summary.cumprod(axis=1)"
   ]
  },
  {
   "cell_type": "code",
   "execution_count": 3,
   "metadata": {},
   "outputs": [
    {
     "ename": "NameError",
     "evalue": "name 'tf' is not defined",
     "output_type": "error",
     "traceback": [
      "\u001b[0;31m---------------------------------------------------------------------------\u001b[0m",
      "\u001b[0;31mNameError\u001b[0m                                 Traceback (most recent call last)",
      "\u001b[1;32m/dataset/DeepDetectNet/evaluate/dgcnntest.ipynb 单元格 18\u001b[0m in \u001b[0;36m<cell line: 1>\u001b[0;34m()\u001b[0m\n\u001b[0;32m----> <a href='vscode-notebook-cell://attached-container%2B7b22636f6e7461696e65724e616d65223a222f696e73706972696e675f67726569646572227d/dataset/DeepDetectNet/evaluate/dgcnntest.ipynb#X23sdnNjb2RlLXJlbW90ZQ%3D%3D?line=0'>1</a>\u001b[0m eva_model \u001b[39m=\u001b[39m tf\u001b[39m.\u001b[39mkeras\u001b[39m.\u001b[39mmodels\u001b[39m.\u001b[39mload_model(\u001b[39m'\u001b[39m\u001b[39m../models/best\u001b[39m\u001b[39m'\u001b[39m)\n",
      "\u001b[0;31mNameError\u001b[0m: name 'tf' is not defined"
     ]
    }
   ],
   "source": [
    "eva_model = tf.keras.models.load_model('../models/best')\n",
    "# eva_model.load_weights('checkpoint/weights.022118-0.98.hdf5')"
   ]
  },
  {
   "cell_type": "code",
   "execution_count": 84,
   "metadata": {},
   "outputs": [
    {
     "name": "stdout",
     "output_type": "stream",
     "text": [
      "Model: \"model_2\"\n",
      "__________________________________________________________________________________________________\n",
      " Layer (type)                   Output Shape         Param #     Connected to                     \n",
      "==================================================================================================\n",
      " input_7 (InputLayer)           [(None, None, 1443)  0           []                               \n",
      "                                ]                                                                 \n",
      "                                                                                                  \n",
      " dropout_10 (Dropout)           (None, None, 1443)   0           ['input_7[0][0]']                \n",
      "                                                                                                  \n",
      " input_9 (InputLayer)           [(None, None, None)  0           []                               \n",
      "                                ]                                                                 \n",
      "                                                                                                  \n",
      " graph_convolution_8 (GraphConv  (None, None, 32)    46176       ['dropout_10[0][0]',             \n",
      " olution)                                                         'input_9[0][0]']                \n",
      "                                                                                                  \n",
      " dropout_11 (Dropout)           (None, None, 32)     0           ['graph_convolution_8[0][0]']    \n",
      "                                                                                                  \n",
      " graph_convolution_9 (GraphConv  (None, None, 32)    1024        ['dropout_11[0][0]',             \n",
      " olution)                                                         'input_9[0][0]']                \n",
      "                                                                                                  \n",
      " dropout_12 (Dropout)           (None, None, 32)     0           ['graph_convolution_9[0][0]']    \n",
      "                                                                                                  \n",
      " graph_convolution_10 (GraphCon  (None, None, 32)    1024        ['dropout_12[0][0]',             \n",
      " volution)                                                        'input_9[0][0]']                \n",
      "                                                                                                  \n",
      " dropout_13 (Dropout)           (None, None, 32)     0           ['graph_convolution_10[0][0]']   \n",
      "                                                                                                  \n",
      " graph_convolution_11 (GraphCon  (None, None, 1)     32          ['dropout_13[0][0]',             \n",
      " volution)                                                        'input_9[0][0]']                \n",
      "                                                                                                  \n",
      " tf.concat_2 (TFOpLambda)       (None, None, 97)     0           ['graph_convolution_8[0][0]',    \n",
      "                                                                  'graph_convolution_9[0][0]',    \n",
      "                                                                  'graph_convolution_10[0][0]',   \n",
      "                                                                  'graph_convolution_11[0][0]']   \n",
      "                                                                                                  \n",
      " input_8 (InputLayer)           [(None, None)]       0           []                               \n",
      "                                                                                                  \n",
      " sort_pooling_2 (SortPooling)   (None, 3395, 1)      0           ['tf.concat_2[0][0]',            \n",
      "                                                                  'input_8[0][0]']                \n",
      "                                                                                                  \n",
      " conv1d_5 (Conv1D)              (None, 35, 16)       1568        ['sort_pooling_2[0][0]']         \n",
      "                                                                                                  \n",
      " max_pooling1d_1 (MaxPooling1D)  (None, 17, 16)      0           ['conv1d_5[0][0]']               \n",
      "                                                                                                  \n",
      " conv1d_6 (Conv1D)              (None, 13, 32)       2592        ['max_pooling1d_1[0][0]']        \n",
      "                                                                                                  \n",
      " flatten_2 (Flatten)            (None, 416)          0           ['conv1d_6[0][0]']               \n",
      "                                                                                                  \n",
      " dense_6 (Dense)                (None, 128)          53376       ['flatten_2[0][0]']              \n",
      "                                                                                                  \n",
      " dropout_14 (Dropout)           (None, 128)          0           ['dense_6[0][0]']                \n",
      "                                                                                                  \n",
      " dense_7 (Dense)                (None, 64)           8256        ['dropout_14[0][0]']             \n",
      "                                                                                                  \n",
      " dense_8 (Dense)                (None, 1)            65          ['dense_7[0][0]']                \n",
      "                                                                                                  \n",
      "==================================================================================================\n",
      "Total params: 114,113\n",
      "Trainable params: 114,113\n",
      "Non-trainable params: 0\n",
      "__________________________________________________________________________________________________\n"
     ]
    }
   ],
   "source": [
    "eva_model.summary()"
   ]
  },
  {
   "cell_type": "code",
   "execution_count": 6,
   "metadata": {},
   "outputs": [],
   "source": [
    "train_graphs, test_graphs = model_selection.train_test_split(\n",
    "    graph_label_list, train_size=0.9, test_size=None, stratify=graph_label_list,\n",
    ")\n",
    "gen = PaddedGraphGenerator(graphs=graph_list)\n",
    "test_gen = gen.flow(\n",
    "    list(test_graphs.index - 1),\n",
    "    targets=test_graphs.values,\n",
    "    batch_size=1,\n",
    "    symmetric_normalization=False,\n",
    ")\n",
    "\n",
    "train_gen = gen.flow(\n",
    "    list(train_graphs.index - 1),\n",
    "    targets=train_graphs.values,\n",
    "    batch_size=1,\n",
    "    symmetric_normalization=False,\n",
    ")\n"
   ]
  },
  {
   "cell_type": "code",
   "execution_count": 2,
   "metadata": {},
   "outputs": [
    {
     "ename": "NameError",
     "evalue": "name 'eva_model' is not defined",
     "output_type": "error",
     "traceback": [
      "\u001b[0;31m---------------------------------------------------------------------------\u001b[0m",
      "\u001b[0;31mNameError\u001b[0m                                 Traceback (most recent call last)",
      "\u001b[1;32m/dataset/DeepDetectNet/evaluate/dgcnntest.ipynb 单元格 21\u001b[0m in \u001b[0;36m<cell line: 1>\u001b[0;34m()\u001b[0m\n\u001b[0;32m----> <a href='vscode-notebook-cell://attached-container%2B7b22636f6e7461696e65724e616d65223a222f696e73706972696e675f67726569646572227d/dataset/DeepDetectNet/evaluate/dgcnntest.ipynb#X26sdnNjb2RlLXJlbW90ZQ%3D%3D?line=0'>1</a>\u001b[0m y_pred \u001b[39m=\u001b[39m eva_model\u001b[39m.\u001b[39mpredict(test_gen)\n",
      "\u001b[0;31mNameError\u001b[0m: name 'eva_model' is not defined"
     ]
    }
   ],
   "source": [
    "y_pred = eva_model.predict(test_gen)"
   ]
  },
  {
   "cell_type": "code",
   "execution_count": 25,
   "metadata": {},
   "outputs": [],
   "source": [
    "#以下画图用\n",
    "import pickle\n",
    "import csv\n",
    "\n",
    "with open('malconv_test_index.pkl','rb') as f:\n",
    "  x_test=pickle.load(f)\n",
    "x_test=[i.split('/')[-1] for i in x_test]\n",
    "with open('procgcn_pred.pkl','rb') as f:\n",
    "  procgcn_pred=pickle.load(f)\n",
    "with open('procgcn_y_true.pkl','rb') as f:\n",
    "  procgcn_true=pickle.load(f)\n",
    "\n",
    "malconv_pred=[]\n",
    "malconv_true=[]\n",
    "with open('myres.csv','r') as rf:\n",
    "  reader=csv.reader(rf)\n",
    "  for row in reader:\n",
    "    if row[0] in x_test:\n",
    "      malconv_pred.append(float(row[2]))\n",
    "      malconv_true.append(int(row[1]))\n",
    "\n",
    "with open('smo_output','rb') as f:\n",
    "  smo_pred=pickle.load(f)#smo输出是【-1，1】\n",
    "  \n",
    "with open('smo_testy','rb') as f:\n",
    "  smo_true=pickle.load(f)"
   ]
  },
  {
   "cell_type": "code",
   "execution_count": 26,
   "metadata": {},
   "outputs": [
    {
     "data": {
      "image/png": "[encoded data removed]",
      "text/plain": [
       "<Figure size 144x144 with 2 Axes>"
      ]
     },
     "metadata": {
      "needs_background": "light"
     },
     "output_type": "display_data"
    }
   ],
   "source": [
    "smo_pred=np.array([(i/2)+0.5 for i in smo_pred]) #smo输出是【-1，1】\n",
    "smo_true=np.array([(i/2)+0.5 for i in smo_true])\n",
    "import matplotlib.pyplot as plt\n",
    "import seaborn as sns\n",
    "from IPython import display\n",
    "# y_pred = eva_model.predict(test_gen)\n",
    "y_pred1 = smo_pred.round() #输出是置信度，按四舍五入作为分类\n",
    "y_true = smo_true\n",
    "confusion_mtx = tf.math.confusion_matrix(y_true, y_pred1)\n",
    "plt.figure(figsize=(2, 2))\n",
    "sns.heatmap(confusion_mtx,\n",
    "            xticklabels=[0,1],\n",
    "            yticklabels=[0,1],\n",
    "            annot=True, fmt='g')\n",
    "plt.xlabel('Prediction')\n",
    "plt.ylabel('Label')\n",
    "plt.show()"
   ]
  },
  {
   "cell_type": "code",
   "execution_count": 29,
   "metadata": {},
   "outputs": [],
   "source": [
    "from sklearn.metrics import roc_curve, roc_auc_score\n",
    "from scipy.stats import norm\n",
    "import numpy as np\n",
    "def AUC_CI(auc, label, alpha = 0.05):\n",
    "\tlabel = np.array(label)#防止label不是array类型\n",
    "\tn1, n2 = np.sum(label == 1), np.sum(label == 0)\n",
    "\tq1 = auc / (2-auc)\n",
    "\tq2 = (2 * auc ** 2) / (1 + auc)\n",
    "\tse = np.sqrt((auc * (1 - auc) + (n1 - 1) * (q1 - auc ** 2) + (n2 -1) * (q2 - auc ** 2)) / (n1 * n2))\n",
    "\tconfidence_level = 1 - alpha\n",
    "\tz_lower, z_upper = norm.interval(confidence_level)\n",
    "\tlowerb, upperb = auc + z_lower * se, auc + z_upper * se\n",
    "\treturn (lowerb, upperb)\n",
    "import matplotlib.pyplot as plt\n",
    "def plot_AUC(ax, FPR, TPR, AUC, CI, label):\n",
    "\tlabel = '{}: {} ({}-{})'.format(str(label), round(AUC, 3), round(CI[0], 3), round(CI[1], 3))\n",
    "\tax.plot(FPR, TPR, label = label)\n",
    "\treturn ax\n",
    "\n",
    "#label是每个样本对应的真实标签(0或1)，pred_prob是模型输出的对每个样本的预测概率\n",
    "proc_FPR, proc_TPR, _ = roc_curve(procgcn_true, procgcn_pred, pos_label = 1)\n",
    "proc_AUC = roc_auc_score(procgcn_true, procgcn_pred)\n",
    "proc_CI = AUC_CI(proc_AUC, procgcn_true, 0.05)\n",
    "\n",
    "malconv_FPR, malconv_TPR, _ = roc_curve(malconv_true, malconv_pred, pos_label = 1)\n",
    "malconv_AUC = roc_auc_score(malconv_true, malconv_pred)\n",
    "malconv_CI = AUC_CI(malconv_AUC, malconv_true, 0.05)\n",
    "\n",
    "smo_FPR, smo_TPR, _ = roc_curve(smo_true, smo_pred, pos_label = 1)\n",
    "smo_AUC = roc_auc_score(smo_true, smo_pred)\n",
    "smo_CI = AUC_CI(malconv_AUC, malconv_true, 0.05)\n"
   ]
  },
  {
   "cell_type": "code",
   "execution_count": 33,
   "metadata": {},
   "outputs": [
    {
     "data": {
      "image/png": "[encoded data removed]",
      "text/plain": [
       "<Figure size 921.6x633.6 with 1 Axes>"
      ]
     },
     "metadata": {
      "needs_background": "light"
     },
     "output_type": "display_data"
    }
   ],
   "source": [
    "plt.style.use('seaborn-poster')\n",
    "fig, ax = plt.subplots()\n",
    "ax = plot_AUC(ax, proc_FPR, proc_TPR, proc_AUC, proc_CI,label='ProcGCN,AUC=')\n",
    "ax = plot_AUC(ax, malconv_FPR, malconv_TPR, malconv_AUC, malconv_CI, label = 'Malconv,AUC=')\n",
    "ax = plot_AUC(ax, smo_FPR, smo_TPR, smo_AUC, smo_CI, label = 'SMO,AUC=')\n",
    "ax.plot((0, 1), (0, 1), ':', color = 'grey')\n",
    "# ax.patch.set_facecolor('white')\n",
    "ax.set_xlim(-0.01, 1.01)\n",
    "ax.set_ylim(-0.01, 1.01)\n",
    "ax.set_aspect('equal')\n",
    "ax.set_xlabel('False Positive Rate')\n",
    "ax.set_ylabel('True Positive Rate')\n",
    "ax.legend()\n",
    "# plt.show()\n",
    "plt.savefig('auc.png')\n"
   ]
  }
 ],
 "metadata": {
  "kernelspec": {
   "display_name": "Python 3",
   "language": "python",
   "name": "python3"
  },
  "language_info": {
   "codemirror_mode": {
    "name": "ipython",
    "version": 3
   },
   "file_extension": ".py",
   "mimetype": "text/x-python",
   "name": "python",
   "nbconvert_exporter": "python",
   "pygments_lexer": "ipython3",
   "version": "3.8.10"
  },
  "orig_nbformat": 4,
  "vscode": {
   "interpreter": {
    "hash": "31f2aee4e71d21fbe5cf8b01ff0e069b9275f58929596ceb00d14d90e3e16cd6"
   }
  }
 },
 "nbformat": 4,
 "nbformat_minor": 2
}
