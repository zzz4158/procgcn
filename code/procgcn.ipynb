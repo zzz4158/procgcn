{
 "cells": [
  {
   "cell_type": "code",
   "execution_count": 1,
   "metadata": {},
   "outputs": [
    {
     "name": "stderr",
     "output_type": "stream",
     "text": [
      "2023-02-21 17:28:32.373980: I tensorflow/core/platform/cpu_feature_guard.cc:193] This TensorFlow binary is optimized with oneAPI Deep Neural Network Library (oneDNN) to use the following CPU instructions in performance-critical operations:  AVX2 AVX512F FMA\n",
      "To enable them in other operations, rebuild TensorFlow with the appropriate compiler flags.\n",
      "2023-02-21 17:28:33.347241: W tensorflow/compiler/xla/stream_executor/platform/default/dso_loader.cc:64] Could not load dynamic library 'libnvinfer.so.7'; dlerror: libnvinfer.so.7: cannot open shared object file: No such file or directory; LD_LIBRARY_PATH: /usr/local/cuda-11.6/lib64:\n",
      "2023-02-21 17:28:33.347351: W tensorflow/compiler/xla/stream_executor/platform/default/dso_loader.cc:64] Could not load dynamic library 'libnvinfer_plugin.so.7'; dlerror: libnvinfer_plugin.so.7: cannot open shared object file: No such file or directory; LD_LIBRARY_PATH: /usr/local/cuda-11.6/lib64:\n",
      "2023-02-21 17:28:33.347360: W tensorflow/compiler/tf2tensorrt/utils/py_utils.cc:38] TF-TRT Warning: Cannot dlopen some TensorRT libraries. If you would like to use Nvidia GPU with TensorRT, please make sure the missing libraries mentioned above are installed properly.\n",
      "2023-02-21 17:28:34.307814: I tensorflow/compiler/xla/stream_executor/cuda/cuda_gpu_executor.cc:981] successful NUMA node read from SysFS had negative value (-1), but there must be at least one NUMA node, so returning NUMA node zero\n",
      "2023-02-21 17:28:34.353715: I tensorflow/compiler/xla/stream_executor/cuda/cuda_gpu_executor.cc:981] successful NUMA node read from SysFS had negative value (-1), but there must be at least one NUMA node, so returning NUMA node zero\n",
      "2023-02-21 17:28:34.358532: I tensorflow/compiler/xla/stream_executor/cuda/cuda_gpu_executor.cc:981] successful NUMA node read from SysFS had negative value (-1), but there must be at least one NUMA node, so returning NUMA node zero\n",
      "2023-02-21 17:28:34.361690: I tensorflow/core/platform/cpu_feature_guard.cc:193] This TensorFlow binary is optimized with oneAPI Deep Neural Network Library (oneDNN) to use the following CPU instructions in performance-critical operations:  AVX2 AVX512F FMA\n",
      "To enable them in other operations, rebuild TensorFlow with the appropriate compiler flags.\n",
      "2023-02-21 17:28:34.362676: I tensorflow/compiler/xla/stream_executor/cuda/cuda_gpu_executor.cc:981] successful NUMA node read from SysFS had negative value (-1), but there must be at least one NUMA node, so returning NUMA node zero\n",
      "2023-02-21 17:28:34.365423: I tensorflow/compiler/xla/stream_executor/cuda/cuda_gpu_executor.cc:981] successful NUMA node read from SysFS had negative value (-1), but there must be at least one NUMA node, so returning NUMA node zero\n",
      "2023-02-21 17:28:34.368132: I tensorflow/compiler/xla/stream_executor/cuda/cuda_gpu_executor.cc:981] successful NUMA node read from SysFS had negative value (-1), but there must be at least one NUMA node, so returning NUMA node zero\n",
      "2023-02-21 17:28:35.259887: I tensorflow/compiler/xla/stream_executor/cuda/cuda_gpu_executor.cc:981] successful NUMA node read from SysFS had negative value (-1), but there must be at least one NUMA node, so returning NUMA node zero\n",
      "2023-02-21 17:28:35.261928: I tensorflow/compiler/xla/stream_executor/cuda/cuda_gpu_executor.cc:981] successful NUMA node read from SysFS had negative value (-1), but there must be at least one NUMA node, so returning NUMA node zero\n",
      "2023-02-21 17:28:35.263638: I tensorflow/compiler/xla/stream_executor/cuda/cuda_gpu_executor.cc:981] successful NUMA node read from SysFS had negative value (-1), but there must be at least one NUMA node, so returning NUMA node zero\n",
      "2023-02-21 17:28:35.265229: I tensorflow/core/common_runtime/gpu/gpu_device.cc:1613] Created device /job:localhost/replica:0/task:0/device:GPU:0 with 13567 MB memory:  -> device: 0, name: Tesla T4, pci bus id: 0000:00:07.0, compute capability: 7.5\n"
     ]
    }
   ],
   "source": [
    "import pandas as pd\n",
    "import numpy as np\n",
    "import networkx as nx\n",
    "import stellargraph as sg\n",
    "from stellargraph.mapper import PaddedGraphGenerator\n",
    "from stellargraph.layer import DeepGraphCNN\n",
    "from stellargraph import StellarGraph\n",
    "\n",
    "from sklearn import model_selection\n",
    "\n",
    "from tensorflow.keras import Model\n",
    "from tensorflow.keras.optimizers import Adam\n",
    "from tensorflow.keras.layers import Dense, Conv1D, MaxPool1D, Dropout, Flatten, AvgPool1D\n",
    "from tensorflow.keras.losses import binary_crossentropy\n",
    "import tensorflow as tf"
   ]
  },
  {
   "cell_type": "code",
   "execution_count": 2,
   "metadata": {
    "tags": [
     "DataLoading"
    ]
   },
   "outputs": [],
   "source": [
    "# import pickle\n",
    "# with open('data/sg_f1443_data1000.pkl','rb') as f:\n",
    "#   dataset=pickle.load(f)\n",
    "import pickle\n",
    "with open('data/graph_label_list.pkl','rb') as f:\n",
    "  graph_label_list=pickle.load(f)\n",
    "with open('data/graph_list.pkl','rb') as f:\n",
    "  graph_list=pickle.load(f)\n",
    "\n"
   ]
  },
  {
   "cell_type": "code",
   "execution_count": 37,
   "metadata": {},
   "outputs": [
    {
     "data": {
      "text/html": [
       "<div>\n",
       "<style scoped>\n",
       "    .dataframe tbody tr th:only-of-type {\n",
       "        vertical-align: middle;\n",
       "    }\n",
       "\n",
       "    .dataframe tbody tr th {\n",
       "        vertical-align: top;\n",
       "    }\n",
       "\n",
       "    .dataframe thead th {\n",
       "        text-align: right;\n",
       "    }\n",
       "</style>\n",
       "<table border=\"1\" class=\"dataframe\">\n",
       "  <thead>\n",
       "    <tr style=\"text-align: right;\">\n",
       "      <th></th>\n",
       "      <th>0</th>\n",
       "    </tr>\n",
       "    <tr>\n",
       "      <th>1</th>\n",
       "      <th></th>\n",
       "    </tr>\n",
       "  </thead>\n",
       "  <tbody>\n",
       "    <tr>\n",
       "      <th>0</th>\n",
       "      <td>896</td>\n",
       "    </tr>\n",
       "    <tr>\n",
       "      <th>1</th>\n",
       "      <td>896</td>\n",
       "    </tr>\n",
       "  </tbody>\n",
       "</table>\n",
       "</div>"
      ],
      "text/plain": [
       "     0\n",
       "1     \n",
       "0  896\n",
       "1  896"
      ]
     },
     "execution_count": 37,
     "metadata": {},
     "output_type": "execute_result"
    }
   ],
   "source": [
    "\n",
    "graph_label_list = pd.get_dummies(graph_label_list, drop_first=True)\n",
    "graph_label_list.value_counts().to_frame()"
   ]
  },
  {
   "cell_type": "code",
   "execution_count": 24,
   "metadata": {},
   "outputs": [
    {
     "data": {
      "text/html": [
       "<div>\n",
       "<style scoped>\n",
       "    .dataframe tbody tr th:only-of-type {\n",
       "        vertical-align: middle;\n",
       "    }\n",
       "\n",
       "    .dataframe tbody tr th {\n",
       "        vertical-align: top;\n",
       "    }\n",
       "\n",
       "    .dataframe thead th {\n",
       "        text-align: right;\n",
       "    }\n",
       "</style>\n",
       "<table border=\"1\" class=\"dataframe\">\n",
       "  <thead>\n",
       "    <tr style=\"text-align: right;\">\n",
       "      <th></th>\n",
       "      <th>nodes</th>\n",
       "      <th>edges</th>\n",
       "    </tr>\n",
       "  </thead>\n",
       "  <tbody>\n",
       "    <tr>\n",
       "      <th>count</th>\n",
       "      <td>3227.0</td>\n",
       "      <td>3227.0</td>\n",
       "    </tr>\n",
       "    <tr>\n",
       "      <th>mean</th>\n",
       "      <td>353.7</td>\n",
       "      <td>764.8</td>\n",
       "    </tr>\n",
       "    <tr>\n",
       "      <th>std</th>\n",
       "      <td>234.5</td>\n",
       "      <td>642.2</td>\n",
       "    </tr>\n",
       "    <tr>\n",
       "      <th>min</th>\n",
       "      <td>21.0</td>\n",
       "      <td>0.0</td>\n",
       "    </tr>\n",
       "    <tr>\n",
       "      <th>25%</th>\n",
       "      <td>155.0</td>\n",
       "      <td>174.5</td>\n",
       "    </tr>\n",
       "    <tr>\n",
       "      <th>50%</th>\n",
       "      <td>316.0</td>\n",
       "      <td>588.0</td>\n",
       "    </tr>\n",
       "    <tr>\n",
       "      <th>75%</th>\n",
       "      <td>529.0</td>\n",
       "      <td>1113.0</td>\n",
       "    </tr>\n",
       "    <tr>\n",
       "      <th>max</th>\n",
       "      <td>999.0</td>\n",
       "      <td>3451.0</td>\n",
       "    </tr>\n",
       "  </tbody>\n",
       "</table>\n",
       "</div>"
      ],
      "text/plain": [
       "        nodes   edges\n",
       "count  3227.0  3227.0\n",
       "mean    353.7   764.8\n",
       "std     234.5   642.2\n",
       "min      21.0     0.0\n",
       "25%     155.0   174.5\n",
       "50%     316.0   588.0\n",
       "75%     529.0  1113.0\n",
       "max     999.0  3451.0"
      ]
     },
     "execution_count": 24,
     "metadata": {},
     "output_type": "execute_result"
    }
   ],
   "source": [
    "summary = pd.DataFrame(\n",
    "    [(g.number_of_nodes(), g.number_of_edges()) for g in graph_list],\n",
    "    columns=[\"nodes\", \"edges\"],\n",
    ")\n",
    "summary.describe().round(1)"
   ]
  },
  {
   "cell_type": "code",
   "execution_count": 25,
   "metadata": {},
   "outputs": [],
   "source": [
    "generator = PaddedGraphGenerator(graphs=graph_list)"
   ]
  },
  {
   "cell_type": "code",
   "execution_count": 26,
   "metadata": {},
   "outputs": [],
   "source": [
    "k = 35  # the number of rows for the output tensor\n",
    "layer_sizes = [32,32,32,1]\n",
    "\n",
    "dgcnn_model = DeepGraphCNN(\n",
    "    layer_sizes=layer_sizes,\n",
    "    activations=[\"tanh\", \"tanh\",\"tanh\",\"tanh\"],\n",
    "    k=k,\n",
    "    bias=False,\n",
    "    generator=generator,\n",
    ")\n",
    "x_inp, x_out = dgcnn_model.in_out_tensors()"
   ]
  },
  {
   "cell_type": "code",
   "execution_count": 27,
   "metadata": {},
   "outputs": [],
   "source": [
    "x_out = Conv1D(filters=16, kernel_size=sum(layer_sizes), strides=sum(layer_sizes))(x_out)\n",
    "x_out = AvgPool1D(pool_size=2)(x_out)\n",
    "\n",
    "x_out = Conv1D(filters=32, kernel_size=5, strides=1)(x_out)\n",
    "\n",
    "x_out = Flatten()(x_out)\n",
    "\n",
    "x_out = Dense(units=128, activation=\"relu\")(x_out)\n",
    "\n",
    "x_out = Dropout(rate=0.5)(x_out)\n",
    "x_out = Dense(units=64, activation=\"relu\")(x_out)\n",
    "\n",
    "predictions = Dense(units=1, activation=\"sigmoid\")(x_out)"
   ]
  },
  {
   "cell_type": "code",
   "execution_count": 28,
   "metadata": {},
   "outputs": [
    {
     "name": "stdout",
     "output_type": "stream",
     "text": [
      "Model: \"model_2\"\n",
      "__________________________________________________________________________________________________\n",
      " Layer (type)                   Output Shape         Param #     Connected to                     \n",
      "==================================================================================================\n",
      " input_7 (InputLayer)           [(None, None, 1443)  0           []                               \n",
      "                                ]                                                                 \n",
      "                                                                                                  \n",
      " dropout_10 (Dropout)           (None, None, 1443)   0           ['input_7[0][0]']                \n",
      "                                                                                                  \n",
      " input_9 (InputLayer)           [(None, None, None)  0           []                               \n",
      "                                ]                                                                 \n",
      "                                                                                                  \n",
      " graph_convolution_8 (GraphConv  (None, None, 32)    46176       ['dropout_10[0][0]',             \n",
      " olution)                                                         'input_9[0][0]']                \n",
      "                                                                                                  \n",
      " dropout_11 (Dropout)           (None, None, 32)     0           ['graph_convolution_8[0][0]']    \n",
      "                                                                                                  \n",
      " graph_convolution_9 (GraphConv  (None, None, 32)    1024        ['dropout_11[0][0]',             \n",
      " olution)                                                         'input_9[0][0]']                \n",
      "                                                                                                  \n",
      " dropout_12 (Dropout)           (None, None, 32)     0           ['graph_convolution_9[0][0]']    \n",
      "                                                                                                  \n",
      " graph_convolution_10 (GraphCon  (None, None, 32)    1024        ['dropout_12[0][0]',             \n",
      " volution)                                                        'input_9[0][0]']                \n",
      "                                                                                                  \n",
      " dropout_13 (Dropout)           (None, None, 32)     0           ['graph_convolution_10[0][0]']   \n",
      "                                                                                                  \n",
      " graph_convolution_11 (GraphCon  (None, None, 1)     32          ['dropout_13[0][0]',             \n",
      " volution)                                                        'input_9[0][0]']                \n",
      "                                                                                                  \n",
      " tf.concat_2 (TFOpLambda)       (None, None, 97)     0           ['graph_convolution_8[0][0]',    \n",
      "                                                                  'graph_convolution_9[0][0]',    \n",
      "                                                                  'graph_convolution_10[0][0]',   \n",
      "                                                                  'graph_convolution_11[0][0]']   \n",
      "                                                                                                  \n",
      " input_8 (InputLayer)           [(None, None)]       0           []                               \n",
      "                                                                                                  \n",
      " sort_pooling_2 (SortPooling)   (None, 3395, 1)      0           ['tf.concat_2[0][0]',            \n",
      "                                                                  'input_8[0][0]']                \n",
      "                                                                                                  \n",
      " conv1d_5 (Conv1D)              (None, 35, 16)       1568        ['sort_pooling_2[0][0]']         \n",
      "                                                                                                  \n",
      " max_pooling1d_1 (MaxPooling1D)  (None, 17, 16)      0           ['conv1d_5[0][0]']               \n",
      "                                                                                                  \n",
      " conv1d_6 (Conv1D)              (None, 13, 32)       2592        ['max_pooling1d_1[0][0]']        \n",
      "                                                                                                  \n",
      " flatten_2 (Flatten)            (None, 416)          0           ['conv1d_6[0][0]']               \n",
      "                                                                                                  \n",
      " dense_6 (Dense)                (None, 128)          53376       ['flatten_2[0][0]']              \n",
      "                                                                                                  \n",
      " dropout_14 (Dropout)           (None, 128)          0           ['dense_6[0][0]']                \n",
      "                                                                                                  \n",
      " dense_7 (Dense)                (None, 64)           8256        ['dropout_14[0][0]']             \n",
      "                                                                                                  \n",
      " dense_8 (Dense)                (None, 1)            65          ['dense_7[0][0]']                \n",
      "                                                                                                  \n",
      "==================================================================================================\n",
      "Total params: 114,113\n",
      "Trainable params: 114,113\n",
      "Non-trainable params: 0\n",
      "__________________________________________________________________________________________________\n"
     ]
    }
   ],
   "source": [
    "model = Model(inputs=x_inp, outputs=predictions)\n",
    "\n",
    "model.compile(\n",
    "    optimizer=tf.keras.optimizers.Adam(), loss=binary_crossentropy, metrics=[\"acc\"], \n",
    ")\n",
    "model.summary()"
   ]
  },
  {
   "cell_type": "markdown",
   "metadata": {},
   "source": [
    "### Train the model\n",
    "\n",
    "We can now train the model using the model's `fit` method.\n",
    "\n",
    "But first we need to split our data to training and test sets. We are going to use 90% of the data for training and the remaining 10% for testing. This 90/10 split is the equivalent of a single fold in the 10-fold cross validation scheme used in [1]."
   ]
  },
  {
   "cell_type": "code",
   "execution_count": 41,
   "metadata": {},
   "outputs": [],
   "source": [
    "train_graphs, test_graphs = model_selection.train_test_split(\n",
    "    graph_label_list, train_size=0.9, test_size=None, stratify=graph_label_list,\n",
    ")"
   ]
  },
  {
   "cell_type": "markdown",
   "metadata": {},
   "source": [
    "Given the data split into train and test sets, we create a `StellarGraph.PaddedGenerator` generator object that prepares the data for training. We create data generators suitable for training at `tf.keras` model by calling the latter generator's `flow` method specifying the train and test data."
   ]
  },
  {
   "cell_type": "code",
   "execution_count": 44,
   "metadata": {},
   "outputs": [],
   "source": [
    "gen = PaddedGraphGenerator(graphs=graph_list)\n",
    "\n",
    "train_gen = gen.flow(\n",
    "    list(train_graphs.index - 1),\n",
    "    targets=train_graphs.values,\n",
    "    batch_size=32,\n",
    "    symmetric_normalization=False,\n",
    ")\n",
    "\n",
    "test_gen = gen.flow(\n",
    "    list(test_graphs.index - 1),\n",
    "    targets=test_graphs.values,\n",
    "    batch_size=1,\n",
    "    symmetric_normalization=False,\n",
    ")"
   ]
  },
  {
   "cell_type": "code",
   "execution_count": 31,
   "metadata": {},
   "outputs": [
    {
     "name": "stdout",
     "output_type": "stream",
     "text": [
      "Epoch 1/100\n",
      "\n",
      "Epoch 1: acc improved from -inf to 0.78788, saving model to ./checkpoint/weights.022118-0.79.hdf5\n",
      "91/91 - 65s - loss: 0.4499 - acc: 0.7879 - 65s/epoch - 714ms/step\n",
      "Epoch 2/100\n",
      "\n",
      "Epoch 2: acc improved from 0.78788 to 0.88877, saving model to ./checkpoint/weights.022118-0.89.hdf5\n",
      "91/91 - 62s - loss: 0.2823 - acc: 0.8888 - 62s/epoch - 679ms/step\n",
      "Epoch 3/100\n",
      "\n",
      "Epoch 3: acc improved from 0.88877 to 0.90668, saving model to ./checkpoint/weights.022118-0.91.hdf5\n",
      "91/91 - 62s - loss: 0.2444 - acc: 0.9067 - 62s/epoch - 684ms/step\n",
      "Epoch 4/100\n",
      "\n",
      "Epoch 4: acc improved from 0.90668 to 0.92837, saving model to ./checkpoint/weights.022118-0.93.hdf5\n",
      "91/91 - 62s - loss: 0.1912 - acc: 0.9284 - 62s/epoch - 685ms/step\n",
      "Epoch 5/100\n",
      "\n",
      "Epoch 5: acc improved from 0.92837 to 0.93251, saving model to ./checkpoint/weights.022118-0.93.hdf5\n",
      "91/91 - 62s - loss: 0.1782 - acc: 0.9325 - 62s/epoch - 680ms/step\n",
      "Epoch 6/100\n",
      "\n",
      "Epoch 6: acc improved from 0.93251 to 0.94628, saving model to ./checkpoint/weights.022118-0.95.hdf5\n",
      "91/91 - 62s - loss: 0.1465 - acc: 0.9463 - 62s/epoch - 683ms/step\n",
      "Epoch 7/100\n",
      "\n",
      "Epoch 7: acc improved from 0.94628 to 0.95282, saving model to ./checkpoint/weights.022118-0.95.hdf5\n",
      "91/91 - 61s - loss: 0.1325 - acc: 0.9528 - 61s/epoch - 673ms/step\n",
      "Epoch 8/100\n",
      "\n",
      "Epoch 8: acc improved from 0.95282 to 0.95868, saving model to ./checkpoint/weights.022118-0.96.hdf5\n",
      "91/91 - 63s - loss: 0.1253 - acc: 0.9587 - 63s/epoch - 689ms/step\n",
      "Epoch 9/100\n",
      "\n",
      "Epoch 9: acc improved from 0.95868 to 0.96040, saving model to ./checkpoint/weights.022118-0.96.hdf5\n",
      "91/91 - 62s - loss: 0.1103 - acc: 0.9604 - 62s/epoch - 680ms/step\n",
      "Epoch 10/100\n",
      "\n",
      "Epoch 10: acc improved from 0.96040 to 0.96074, saving model to ./checkpoint/weights.022118-0.96.hdf5\n",
      "91/91 - 62s - loss: 0.1182 - acc: 0.9607 - 62s/epoch - 677ms/step\n",
      "Epoch 11/100\n",
      "\n",
      "Epoch 11: acc did not improve from 0.96074\n",
      "91/91 - 62s - loss: 0.1229 - acc: 0.9573 - 62s/epoch - 687ms/step\n",
      "Epoch 12/100\n",
      "\n",
      "Epoch 12: acc did not improve from 0.96074\n",
      "91/91 - 62s - loss: 0.1219 - acc: 0.9583 - 62s/epoch - 682ms/step\n",
      "Epoch 13/100\n",
      "\n",
      "Epoch 13: acc improved from 0.96074 to 0.96729, saving model to ./checkpoint/weights.022118-0.97.hdf5\n",
      "91/91 - 63s - loss: 0.0913 - acc: 0.9673 - 63s/epoch - 687ms/step\n",
      "Epoch 14/100\n",
      "\n",
      "Epoch 14: acc improved from 0.96729 to 0.97107, saving model to ./checkpoint/weights.022118-0.97.hdf5\n",
      "91/91 - 62s - loss: 0.0844 - acc: 0.9711 - 62s/epoch - 680ms/step\n",
      "Epoch 15/100\n",
      "\n",
      "Epoch 15: acc did not improve from 0.97107\n",
      "91/91 - 61s - loss: 0.0958 - acc: 0.9687 - 61s/epoch - 673ms/step\n",
      "Epoch 16/100\n",
      "\n",
      "Epoch 16: acc improved from 0.97107 to 0.97314, saving model to ./checkpoint/weights.022118-0.97.hdf5\n",
      "91/91 - 62s - loss: 0.0814 - acc: 0.9731 - 62s/epoch - 680ms/step\n",
      "Epoch 17/100\n",
      "\n",
      "Epoch 17: acc improved from 0.97314 to 0.97486, saving model to ./checkpoint/weights.022118-0.97.hdf5\n",
      "91/91 - 62s - loss: 0.0751 - acc: 0.9749 - 62s/epoch - 682ms/step\n",
      "Epoch 18/100\n",
      "\n",
      "Epoch 18: acc did not improve from 0.97486\n",
      "91/91 - 62s - loss: 0.0992 - acc: 0.9676 - 62s/epoch - 684ms/step\n",
      "Epoch 19/100\n",
      "\n",
      "Epoch 19: acc did not improve from 0.97486\n",
      "91/91 - 62s - loss: 0.1068 - acc: 0.9666 - 62s/epoch - 677ms/step\n",
      "Epoch 20/100\n",
      "\n",
      "Epoch 20: acc did not improve from 0.97486\n",
      "91/91 - 62s - loss: 0.1774 - acc: 0.9459 - 62s/epoch - 680ms/step\n",
      "Epoch 21/100\n",
      "\n",
      "Epoch 21: acc did not improve from 0.97486\n",
      "91/91 - 61s - loss: 0.1526 - acc: 0.9552 - 61s/epoch - 674ms/step\n",
      "Epoch 22/100\n",
      "\n",
      "Epoch 22: acc improved from 0.97486 to 0.97693, saving model to ./checkpoint/weights.022118-0.98.hdf5\n",
      "91/91 - 63s - loss: 0.0768 - acc: 0.9769 - 63s/epoch - 690ms/step\n",
      "Epoch 23/100\n",
      "\n",
      "Epoch 23: acc improved from 0.97693 to 0.98037, saving model to ./checkpoint/weights.022118-0.98.hdf5\n",
      "91/91 - 62s - loss: 0.0654 - acc: 0.9804 - 62s/epoch - 685ms/step\n",
      "Epoch 24/100\n",
      "\n",
      "Epoch 24: acc improved from 0.98037 to 0.98140, saving model to ./checkpoint/weights.022118-0.98.hdf5\n",
      "91/91 - 63s - loss: 0.0619 - acc: 0.9814 - 63s/epoch - 687ms/step\n",
      "Epoch 25/100\n",
      "\n",
      "Epoch 25: acc did not improve from 0.98140\n",
      "91/91 - 62s - loss: 0.0544 - acc: 0.9807 - 62s/epoch - 685ms/step\n",
      "Epoch 26/100\n",
      "\n",
      "Epoch 26: acc improved from 0.98140 to 0.98244, saving model to ./checkpoint/weights.022118-0.98.hdf5\n",
      "91/91 - 62s - loss: 0.0582 - acc: 0.9824 - 62s/epoch - 685ms/step\n",
      "Epoch 27/100\n",
      "\n",
      "Epoch 27: acc did not improve from 0.98244\n",
      "91/91 - 61s - loss: 0.0521 - acc: 0.9811 - 61s/epoch - 672ms/step\n",
      "Epoch 28/100\n",
      "\n",
      "Epoch 28: acc improved from 0.98244 to 0.98519, saving model to ./checkpoint/weights.022118-0.99.hdf5\n",
      "91/91 - 62s - loss: 0.0484 - acc: 0.9852 - 62s/epoch - 683ms/step\n",
      "Epoch 29/100\n",
      "\n",
      "Epoch 29: acc did not improve from 0.98519\n",
      "91/91 - 62s - loss: 0.0503 - acc: 0.9821 - 62s/epoch - 679ms/step\n",
      "Epoch 30/100\n",
      "\n",
      "Epoch 30: acc improved from 0.98519 to 0.98623, saving model to ./checkpoint/weights.022118-0.99.hdf5\n",
      "91/91 - 61s - loss: 0.0448 - acc: 0.9862 - 61s/epoch - 674ms/step\n",
      "Epoch 31/100\n",
      "\n",
      "Epoch 31: acc did not improve from 0.98623\n",
      "91/91 - 62s - loss: 0.0625 - acc: 0.9787 - 62s/epoch - 682ms/step\n",
      "Epoch 32/100\n",
      "\n",
      "Epoch 32: acc did not improve from 0.98623\n",
      "91/91 - 63s - loss: 0.0523 - acc: 0.9838 - 63s/epoch - 696ms/step\n",
      "Epoch 33/100\n",
      "\n",
      "Epoch 33: acc did not improve from 0.98623\n",
      "91/91 - 63s - loss: 0.0456 - acc: 0.9842 - 63s/epoch - 690ms/step\n",
      "Epoch 34/100\n",
      "\n",
      "Epoch 34: acc did not improve from 0.98623\n",
      "91/91 - 62s - loss: 0.0450 - acc: 0.9859 - 62s/epoch - 678ms/step\n",
      "Epoch 35/100\n",
      "\n",
      "Epoch 35: acc did not improve from 0.98623\n",
      "91/91 - 62s - loss: 0.0439 - acc: 0.9862 - 62s/epoch - 682ms/step\n",
      "Epoch 36/100\n",
      "\n",
      "Epoch 36: acc did not improve from 0.98623\n",
      "91/91 - 62s - loss: 0.0452 - acc: 0.9855 - 62s/epoch - 679ms/step\n",
      "Epoch 37/100\n",
      "\n",
      "Epoch 37: acc did not improve from 0.98623\n",
      "91/91 - 62s - loss: 0.0492 - acc: 0.9845 - 62s/epoch - 684ms/step\n",
      "Epoch 38/100\n",
      "\n",
      "Epoch 38: acc did not improve from 0.98623\n",
      "91/91 - 62s - loss: 0.0474 - acc: 0.9842 - 62s/epoch - 683ms/step\n",
      "Epoch 39/100\n",
      "\n",
      "Epoch 39: acc did not improve from 0.98623\n",
      "91/91 - 62s - loss: 0.0482 - acc: 0.9831 - 62s/epoch - 684ms/step\n",
      "Epoch 40/100\n",
      "\n",
      "Epoch 40: acc did not improve from 0.98623\n",
      "91/91 - 62s - loss: 0.0614 - acc: 0.9783 - 62s/epoch - 687ms/step\n"
     ]
    },
    {
     "name": "stderr",
     "output_type": "stream",
     "text": [
      "WARNING:absl:Found untraced functions such as _jit_compiled_convolution_op, _jit_compiled_convolution_op while saving (showing 2 of 2). These functions will not be directly callable after loading.\n"
     ]
    },
    {
     "name": "stdout",
     "output_type": "stream",
     "text": [
      "INFO:tensorflow:Assets written to: ./models/20230221-1855/assets\n"
     ]
    },
    {
     "name": "stderr",
     "output_type": "stream",
     "text": [
      "INFO:tensorflow:Assets written to: ./models/20230221-1855/assets\n"
     ]
    }
   ],
   "source": [
    "import os\n",
    "if not os.path.exists('./checkpoint'):\n",
    "    os.mkdir('./checkpoint')\n",
    "import datetime\n",
    "import tensorboard\n",
    "log_dir=\"./trainlogs/\" + datetime.datetime.now().strftime(\"%Y%m%d-%H%M\")\n",
    "tensorboard_callback = tf.keras.callbacks.TensorBoard(log_dir=log_dir, histogram_freq=1)\n",
    "\n",
    "checkpoint_filepath = './checkpoint/weights.'+datetime.datetime.now().strftime(\"%m%d%H\")+'-{acc:.2f}.hdf5'\n",
    "model_checkpoint_callback = tf.keras.callbacks.ModelCheckpoint(\n",
    "    filepath=checkpoint_filepath,\n",
    "    monitor='acc',\n",
    "    save_weights_only=True,\n",
    "    save_best_only=True,\n",
    "    verbose=1)\n",
    "early_stop = tf.keras.callbacks.EarlyStopping(monitor=\"acc\", patience=10, restore_best_weights=True)\n",
    "\n",
    "history = model.fit(train_gen,epochs=100,callbacks=[tensorboard_callback,model_checkpoint_callback,early_stop],shuffle=True,verbose=2)\n",
    "model.save('./models/'+ datetime.datetime.now().strftime(\"%Y%m%d-%H%M\"))"
   ]
  },
  {
   "cell_type": "code",
   "execution_count": 32,
   "metadata": {},
   "outputs": [
    {
     "data": {
      "image/png": "[encoded data removed]",
      "text/plain": [
       "<Figure size 700x800 with 2 Axes>"
      ]
     },
     "metadata": {},
     "output_type": "display_data"
    }
   ],
   "source": [
    "sg.utils.plot_history(history)"
   ]
  },
  {
   "cell_type": "markdown",
   "metadata": {},
   "source": [
    "Finally, let us calculate the performance of the trained model on the test data."
   ]
  },
  {
   "cell_type": "code",
   "execution_count": 62,
   "metadata": {},
   "outputs": [
    {
     "name": "stdout",
     "output_type": "stream",
     "text": [
      "180/180 [==============================] - 1s 4ms/step\n"
     ]
    },
    {
     "data": {
      "image/png": "[encoded data removed]",
      "text/plain": [
       "<Figure size 200x200 with 2 Axes>"
      ]
     },
     "metadata": {},
     "output_type": "display_data"
    }
   ],
   "source": [
    "import matplotlib.pyplot as plt\n",
    "import seaborn as sns\n",
    "from IPython import display\n",
    "y_pred = model.predict(test_gen)\n",
    "y_pred = y_pred.round() #输出是置信度，按四舍五入作为分类\n",
    "y_true = list(test_graphs[1])\n",
    "confusion_mtx = tf.math.confusion_matrix(y_true, y_pred)\n",
    "plt.figure(figsize=(2, 2))\n",
    "sns.heatmap(confusion_mtx,\n",
    "            xticklabels=[0,1],\n",
    "            yticklabels=[0,1],\n",
    "            annot=True, fmt='g')\n",
    "plt.xlabel('Prediction')\n",
    "plt.ylabel('Label')\n",
    "plt.show()"
   ]
  }
 ],
 "metadata": {
  "kernelspec": {
   "display_name": "Python 3",
   "language": "python",
   "name": "python3"
  },
  "language_info": {
   "codemirror_mode": {
    "name": "ipython",
    "version": 3
   },
   "file_extension": ".py",
   "mimetype": "text/x-python",
   "name": "python",
   "nbconvert_exporter": "python",
   "pygments_lexer": "ipython3",
   "version": "3.8.10"
  },
  "vscode": {
   "interpreter": {
    "hash": "31f2aee4e71d21fbe5cf8b01ff0e069b9275f58929596ceb00d14d90e3e16cd6"
   }
  }
 },
 "nbformat": 4,
 "nbformat_minor": 4
}
